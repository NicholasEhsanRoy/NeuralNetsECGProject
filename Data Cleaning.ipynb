{
 "cells": [
  {
   "cell_type": "markdown",
   "id": "ee3a0008",
   "metadata": {},
   "source": [
    "Resources used: \n",
    "https://kalaharijournals.com/resources/SP-Vol.6_53.pdf\n",
    "https://iopscience.iop.org/article/10.1088/1742-6596/1246/1/012030/pdf"
   ]
  },
  {
   "cell_type": "code",
   "execution_count": 1,
   "id": "965d66b1",
   "metadata": {},
   "outputs": [],
   "source": [
    "import tensorflow as tf\n",
    "import numpy as np\n",
    "import csv\n",
    "import pandas as pd\n",
    "import matplotlib.pyplot as plt\n",
    "from scipy.signal import butter, sosfilt, sosfreqz, cheby1\n",
    "#This function takes in the ecg data(in csv format) from a file(individual patient).\n",
    "#The ecg data is stripped from its header and then returned as a 2d-numpy array.\n",
    "def takeData(fileName):\n",
    "    with open(fileName) as csv_file:\n",
    "      list1 = []\n",
    "      list2 = []\n",
    "      reader = csv.reader(csv_file, delimiter=',')\n",
    "      flag = True\n",
    "      for row in reader:\n",
    "        if flag:\n",
    "          flag = False\n",
    "          continue\n",
    "        list1.append(row[1])\n",
    "        list2.append(row[2])\n",
    "        \n",
    "        \n",
    "    return np.array([list1, list2]).astype(float)\n",
    "\n",
    "#This function to used to subsample the data from a single patient.\n",
    "#The first parameter is an array or list and the second parameter is the frequency that the data will be subsampled at.\n",
    "def subsample(data, Fs):\n",
    "    list1 = []\n",
    "    list2 = []\n",
    "    for i in range(len(data[0])):\n",
    "        if (i+1) % Fs == 0:\n",
    "            list1.append(data[0][i])\n",
    "            list2.append(data[1][i])\n",
    "        i += 1\n",
    "    return np.array([list1, list2])\n",
    "    "
   ]
  },
  {
   "cell_type": "code",
   "execution_count": 2,
   "id": "890c2352",
   "metadata": {},
   "outputs": [],
   "source": [
    "#This function returns a butterworth bandpass filter object for a given lower and higher frequency cutoff.\n",
    "def butter_bandpass(lowcut, highcut, fs, order=3):\n",
    "        nyq = 0.5 * fs\n",
    "        low = lowcut / nyq\n",
    "        high = highcut / nyq\n",
    "        sos = butter(order, [low, high], analog=False, btype='band', output='sos')\n",
    "        return sos\n",
    "\n",
    "#This function passes the given data through a butterworth bandpass filter with a given lower and higher frequency cutoff.\n",
    "def butter_bandpass_filter(data, lowcut, highcut, fs, order=3):\n",
    "        sos = butter_bandpass(lowcut, highcut, fs, order=order)\n",
    "        x = sosfilt(sos, data[0])\n",
    "        y = sosfilt(sos, data[1])\n",
    "        return np.array([x,y])\n",
    "#This function returns a chebychev type 1 bandpass filter object for a given lower and higher frequency cutoff.\n",
    "def cheby1_bandpass(lowcut, highcut, fs, order=3):\n",
    "        nyq = 0.5 * fs\n",
    "        low = lowcut / nyq\n",
    "        high = highcut / nyq\n",
    "        sos = cheby1(order, 1, [low, high], analog=False, btype='band', output='sos')\n",
    "        return sos\n",
    "\n",
    "#This function passes the given data through a chebychev type 1 bandpass filter with a given lower and higher frequency cutoff.\n",
    "def cheby1_bandpass_filter(data, lowcut, highcut, fs, order=3):\n",
    "        sos = cheby1_bandpass(lowcut, highcut, fs, order=order)\n",
    "        x = sosfilt(sos, data[0])\n",
    "        y = sosfilt(sos, data[1])\n",
    "        return np.array([x,y])"
   ]
  },
  {
   "cell_type": "code",
   "execution_count": 3,
   "id": "8a0a4eb7",
   "metadata": {},
   "outputs": [],
   "source": [
    "#This function plots the data from a given patient for a specified range of samples on the x-axis.\n",
    "#It is possible to specify either the Ml2 reading or the v1/v2/v4/v5 or both to be plotted.\n",
    "def plot_heart_beats(filtered, start=0, end=3600, ml2_or_v5 = \"both\"):\n",
    "    if (ml2_or_v5 == \"ml2\"):\n",
    "        plt.plot(range(start,end), filtered[0][start:end], color=\"blue\")\n",
    "        plt.legend(['ml2'])\n",
    "    elif (ml2_or_v5 == \"v5\"):\n",
    "        plt.plot(range(start,end), filtered[1][start:end], color=\"orange\")\n",
    "        plt.legend(['v5'])\n",
    "    else:\n",
    "        plt.plot(range(start,end), filtered[0][start:end], color=\"blue\")\n",
    "        plt.plot(range(start,end), filtered[1][start:end], color=\"orange\")\n",
    "        plt.legend(['MLII', 'V5'])\n",
    "\n",
    "#This function normalizes the given data to a range between 0 and 1\n",
    "                   \n",
    "def normalise_y_axis(data, start=2100):\n",
    "    min1 = np.amin(data[0][start:])\n",
    "    max1 = np.amax(data[0][start:])\n",
    "    diff1 = max1 - min1\n",
    "\n",
    "    min2 = np.amin(data[1][start:])\n",
    "    max2 = np.max(data[1][start:])\n",
    "    diff2 = max2 - min2\n",
    "\n",
    "    for i in range(start, len(data[0])):\n",
    "        data[0][i] = (data[0][i] - min1)/diff1\n",
    "        data[1][i] = (data[1][i] - min2) / diff2\n",
    "        \n",
    "    return data"
   ]
  },
  {
   "cell_type": "code",
   "execution_count": 21,
   "id": "a9b06f48",
   "metadata": {},
   "outputs": [
    {
     "name": "stdout",
     "output_type": "stream",
     "text": [
      "length before: 650000\n",
      "length after: 325000\n"
     ]
    },
    {
     "data": {
      "image/png": "[encoded data removed]",
      "text/plain": [
       "<Figure size 432x288 with 1 Axes>"
      ]
     },
     "metadata": {
      "needs_background": "light"
     },
     "output_type": "display_data"
    }
   ],
   "source": [
    "    \n",
    "\n",
    "data = takeData('ecgData/100.csv')\n",
    "\n",
    "\n",
    "filtered = butter_bandpass_filter(data, 0.4, 45, 360)\n",
    "\n",
    "filtered1 = cheby1_bandpass_filter(data, 0.4, 45, 360)\n",
    "\n",
    "print(\"length before: \" + str(len(filtered[0])))\n",
    "\n",
    "filtered = subsample(filtered, 2)\n",
    "\n",
    "print(\"length after: \" + str(len(filtered[1])))\n",
    "\n",
    "filtered = normalise_y_axis(filtered)\n",
    "\n",
    "\n",
    "\n",
    "plot_heart_beats(filtered, 7000, 7800, \"ml2\")"
   ]
  },
  {
   "cell_type": "code",
   "execution_count": 5,
   "id": "63e3263c",
   "metadata": {},
   "outputs": [
    {
     "data": {
      "image/png": "[encoded data removed]",
      "text/plain": [
       "<Figure size 432x288 with 1 Axes>"
      ]
     },
     "metadata": {
      "needs_background": "light"
     },
     "output_type": "display_data"
    }
   ],
   "source": [
    "plot_heart_beats(filtered1, 0, 3600)\n"
   ]
  },
  {
   "cell_type": "markdown",
   "id": "fecea94d",
   "metadata": {},
   "source": [
    "Step 1: Import the data into some kind of structure (likely numpy)\n",
    "Step 2: Pass through a frequency band-pass filter to cancel power line oscillations and slow drifts, \"butterworth filter\" - cutoff 0.4Hz and 45Hz.\n",
    "Step 3: Deal with missing values"
   ]
  },
  {
   "cell_type": "code",
   "execution_count": null,
   "id": "b491185c",
   "metadata": {
    "scrolled": true
   },
   "outputs": [],
   "source": [
    "#This is code is trying to help determine the length of the average heartbeat in number of samples.\n",
    "import os\n",
    "\n",
    "path = \"./ecgData\\mitbih_database\"\n",
    "\n",
    "files = os.listdir(path)\n",
    "newFiles = []\n",
    "for file in files:\n",
    "    if file[-1] == \"t\":\n",
    "        newFiles.append(file)\n",
    "        \n",
    "total = 0\n",
    "fileNum = 0    \n",
    "for file in newFiles:\n",
    "    with open(\"ecgData/mitbih_database/\" + file) as annotationFile:\n",
    "        total += (len(annotationFile.readlines()))\n",
    "        fileNum += 1\n",
    "avgNumAnnotations = total / fileNum\n",
    "print(fileNum)\n",
    "\n",
    "print(650000/avgNumAnnotations)\n",
    "\n",
    "\n",
    "    \n"
   ]
  },
  {
   "cell_type": "code",
   "execution_count": 4,
   "id": "849e1d92",
   "metadata": {},
   "outputs": [
    {
     "name": "stdout",
     "output_type": "stream",
     "text": [
      "maxHeartLength: 2114\n",
      "739\n",
      "[['106annotations.txt', '225'], ['106annotations.txt', '1882'], ['106annotations.txt', '1886'], ['106annotations.txt', '1894'], ['106annotations.txt', '1901'], ['106annotations.txt', '1905'], ['106annotations.txt', '1909'], ['106annotations.txt', '1913'], ['106annotations.txt', '1920'], ['106annotations.txt', '1927'], ['106annotations.txt', '1935'], ['106annotations.txt', '1984'], ['106annotations.txt', '1991'], ['106annotations.txt', '1999'], ['108annotations.txt', '230'], ['108annotations.txt', '557'], ['108annotations.txt', '710'], ['108annotations.txt', '721'], ['108annotations.txt', '828'], ['108annotations.txt', '895'], ['108annotations.txt', '935'], ['108annotations.txt', '1117'], ['108annotations.txt', '1131'], ['108annotations.txt', '1167'], ['108annotations.txt', '1180'], ['108annotations.txt', '1190'], ['108annotations.txt', '1411'], ['108annotations.txt', '1464'], ['114annotations.txt', '81'], ['114annotations.txt', '119'], ['114annotations.txt', '180'], ['114annotations.txt', '208'], ['114annotations.txt', '231'], ['114annotations.txt', '235'], ['114annotations.txt', '245'], ['114annotations.txt', '272'], ['114annotations.txt', '277'], ['114annotations.txt', '282'], ['114annotations.txt', '316'], ['114annotations.txt', '347'], ['114annotations.txt', '377'], ['114annotations.txt', '382'], ['114annotations.txt', '387'], ['114annotations.txt', '416'], ['114annotations.txt', '426'], ['114annotations.txt', '443'], ['114annotations.txt', '458'], ['114annotations.txt', '463'], ['114annotations.txt', '479'], ['114annotations.txt', '481'], ['114annotations.txt', '500'], ['114annotations.txt', '525'], ['114annotations.txt', '724'], ['114annotations.txt', '819'], ['119annotations.txt', '204'], ['119annotations.txt', '1505'], ['119annotations.txt', '1507'], ['119annotations.txt', '1511'], ['119annotations.txt', '1524'], ['119annotations.txt', '1583'], ['119annotations.txt', '1637'], ['119annotations.txt', '1768'], ['119annotations.txt', '1826'], ['119annotations.txt', '1877'], ['119annotations.txt', '1883'], ['119annotations.txt', '1889'], ['119annotations.txt', '1892'], ['119annotations.txt', '1894'], ['119annotations.txt', '1901'], ['119annotations.txt', '1941'], ['119annotations.txt', '1947'], ['119annotations.txt', '1949'], ['119annotations.txt', '1952'], ['119annotations.txt', '1995'], ['121annotations.txt', '1023'], ['123annotations.txt', '14'], ['123annotations.txt', '84'], ['123annotations.txt', '87'], ['123annotations.txt', '116'], ['123annotations.txt', '136'], ['123annotations.txt', '137'], ['123annotations.txt', '159'], ['123annotations.txt', '161'], ['123annotations.txt', '178'], ['123annotations.txt', '235'], ['123annotations.txt', '265'], ['123annotations.txt', '290'], ['123annotations.txt', '328'], ['123annotations.txt', '420'], ['123annotations.txt', '424'], ['123annotations.txt', '462'], ['123annotations.txt', '483'], ['123annotations.txt', '495'], ['123annotations.txt', '496'], ['123annotations.txt', '497'], ['123annotations.txt', '511'], ['123annotations.txt', '523'], ['123annotations.txt', '685'], ['123annotations.txt', '686'], ['123annotations.txt', '687'], ['123annotations.txt', '888'], ['123annotations.txt', '935'], ['123annotations.txt', '953'], ['123annotations.txt', '1006'], ['123annotations.txt', '1119'], ['123annotations.txt', '1122'], ['123annotations.txt', '1125'], ['123annotations.txt', '1137'], ['123annotations.txt', '1138'], ['123annotations.txt', '1140'], ['123annotations.txt', '1185'], ['123annotations.txt', '1186'], ['123annotations.txt', '1188'], ['123annotations.txt', '1264'], ['123annotations.txt', '1265'], ['123annotations.txt', '1309'], ['123annotations.txt', '1311'], ['123annotations.txt', '1327'], ['123annotations.txt', '1344'], ['123annotations.txt', '1354'], ['123annotations.txt', '1406'], ['123annotations.txt', '1408'], ['123annotations.txt', '1409'], ['123annotations.txt', '1448'], ['124annotations.txt', '543'], ['124annotations.txt', '734'], ['124annotations.txt', '886'], ['124annotations.txt', '927'], ['124annotations.txt', '930'], ['124annotations.txt', '933'], ['124annotations.txt', '1250'], ['124annotations.txt', '1405'], ['201annotations.txt', '492'], ['201annotations.txt', '556'], ['201annotations.txt', '557'], ['201annotations.txt', '560'], ['201annotations.txt', '562'], ['201annotations.txt', '565'], ['201annotations.txt', '566'], ['201annotations.txt', '572'], ['201annotations.txt', '597'], ['201annotations.txt', '600'], ['201annotations.txt', '607'], ['201annotations.txt', '609'], ['201annotations.txt', '611'], ['201annotations.txt', '613'], ['201annotations.txt', '628'], ['201annotations.txt', '705'], ['201annotations.txt', '707'], ['201annotations.txt', '709'], ['201annotations.txt', '718'], ['201annotations.txt', '720'], ['201annotations.txt', '722'], ['201annotations.txt', '724'], ['201annotations.txt', '726'], ['201annotations.txt', '728'], ['201annotations.txt', '730'], ['201annotations.txt', '732'], ['201annotations.txt', '734'], ['201annotations.txt', '736'], ['201annotations.txt', '740'], ['201annotations.txt', '742'], ['201annotations.txt', '746'], ['201annotations.txt', '749'], ['201annotations.txt', '761'], ['201annotations.txt', '768'], ['201annotations.txt', '775'], ['201annotations.txt', '780'], ['201annotations.txt', '785'], ['201annotations.txt', '790'], ['201annotations.txt', '795'], ['201annotations.txt', '798'], ['201annotations.txt', '818'], ['201annotations.txt', '828'], ['201annotations.txt', '839'], ['201annotations.txt', '844'], ['201annotations.txt', '847'], ['201annotations.txt', '859'], ['201annotations.txt', '874'], ['201annotations.txt', '877'], ['201annotations.txt', '880'], ['201annotations.txt', '886'], ['201annotations.txt', '889'], ['201annotations.txt', '901'], ['201annotations.txt', '904'], ['201annotations.txt', '907'], ['201annotations.txt', '925'], ['201annotations.txt', '937'], ['201annotations.txt', '939'], ['201annotations.txt', '943'], ['201annotations.txt', '961'], ['201annotations.txt', '965'], ['201annotations.txt', '974'], ['201annotations.txt', '979'], ['201annotations.txt', '988'], ['201annotations.txt', '991'], ['201annotations.txt', '994'], ['201annotations.txt', '1009'], ['201annotations.txt', '1015'], ['201annotations.txt', '1036'], ['201annotations.txt', '1039'], ['201annotations.txt', '1042'], ['201annotations.txt', '1045'], ['201annotations.txt', '1051'], ['201annotations.txt', '1057'], ['201annotations.txt', '1071'], ['201annotations.txt', '1075'], ['201annotations.txt', '1079'], ['201annotations.txt', '1087'], ['201annotations.txt', '1096'], ['201annotations.txt', '1100'], ['201annotations.txt', '1104'], ['201annotations.txt', '1108'], ['201annotations.txt', '1116'], ['201annotations.txt', '1120'], ['201annotations.txt', '1132'], ['201annotations.txt', '1212'], ['201annotations.txt', '1217'], ['201annotations.txt', '1239'], ['201annotations.txt', '1266'], ['201annotations.txt', '1267'], ['201annotations.txt', '1273'], ['201annotations.txt', '1275'], ['201annotations.txt', '1276'], ['201annotations.txt', '1295'], ['201annotations.txt', '1330'], ['201annotations.txt', '1384'], ['201annotations.txt', '1391'], ['201annotations.txt', '1398'], ['201annotations.txt', '1401'], ['201annotations.txt', '1405'], ['201annotations.txt', '1408'], ['201annotations.txt', '1421'], ['201annotations.txt', '1423'], ['201annotations.txt', '1437'], ['201annotations.txt', '1446'], ['201annotations.txt', '1473'], ['201annotations.txt', '1479'], ['201annotations.txt', '1582'], ['201annotations.txt', '1586'], ['201annotations.txt', '1588'], ['201annotations.txt', '1592'], ['201annotations.txt', '1594'], ['201annotations.txt', '1598'], ['201annotations.txt', '1600'], ['201annotations.txt', '1602'], ['201annotations.txt', '1604'], ['201annotations.txt', '1611'], ['201annotations.txt', '1613'], ['201annotations.txt', '1618'], ['201annotations.txt', '1620'], ['201annotations.txt', '1622'], ['201annotations.txt', '1624'], ['201annotations.txt', '1629'], ['201annotations.txt', '1631'], ['201annotations.txt', '1633'], ['201annotations.txt', '1635'], ['201annotations.txt', '1637'], ['201annotations.txt', '1639'], ['201annotations.txt', '1641'], ['201annotations.txt', '1652'], ['201annotations.txt', '1653'], ['201annotations.txt', '1655'], ['201annotations.txt', '1658'], ['201annotations.txt', '1660'], ['201annotations.txt', '1665'], ['201annotations.txt', '1666'], ['201annotations.txt', '1668'], ['201annotations.txt', '1669'], ['201annotations.txt', '1682'], ['201annotations.txt', '1684'], ['201annotations.txt', '1693'], ['201annotations.txt', '1695'], ['201annotations.txt', '1697'], ['201annotations.txt', '1699'], ['201annotations.txt', '1701'], ['201annotations.txt', '1703'], ['201annotations.txt', '1705'], ['201annotations.txt', '1707'], ['201annotations.txt', '1709'], ['201annotations.txt', '1711'], ['201annotations.txt', '1722'], ['201annotations.txt', '1724'], ['201annotations.txt', '2025'], ['201annotations.txt', '2026'], ['201annotations.txt', '2027'], ['201annotations.txt', '2032'], ['201annotations.txt', '2034'], ['201annotations.txt', '2037'], ['201annotations.txt', '2039'], ['202annotations.txt', '28'], ['202annotations.txt', '204'], ['202annotations.txt', '219'], ['202annotations.txt', '238'], ['202annotations.txt', '298'], ['202annotations.txt', '384'], ['202annotations.txt', '420'], ['202annotations.txt', '700'], ['202annotations.txt', '712'], ['202annotations.txt', '1039'], ['202annotations.txt', '1048'], ['202annotations.txt', '1107'], ['202annotations.txt', '1109'], ['202annotations.txt', '1345'], ['202annotations.txt', '1348'], ['202annotations.txt', '1353'], ['203annotations.txt', '958'], ['203annotations.txt', '2045'], ['203annotations.txt', '2985'], ['207annotations.txt', '4'], ['207annotations.txt', '6'], ['207annotations.txt', '8'], ['207annotations.txt', '10'], ['207annotations.txt', '14'], ['207annotations.txt', '16'], ['207annotations.txt', '18'], ['207annotations.txt', '20'], ['207annotations.txt', '22'], ['207annotations.txt', '26'], ['207annotations.txt', '32'], ['207annotations.txt', '80'], ['207annotations.txt', '127'], ['207annotations.txt', '248'], ['207annotations.txt', '250'], ['207annotations.txt', '254'], ['207annotations.txt', '256'], ['207annotations.txt', '260'], ['207annotations.txt', '266'], ['207annotations.txt', '268'], ['207annotations.txt', '270'], ['207annotations.txt', '272'], ['207annotations.txt', '274'], ['207annotations.txt', '278'], ['207annotations.txt', '280'], ['207annotations.txt', '284'], ['207annotations.txt', '286'], ['207annotations.txt', '288'], ['207annotations.txt', '290'], ['207annotations.txt', '294'], ['207annotations.txt', '362'], ['207annotations.txt', '367'], ['207annotations.txt', '1819'], ['207annotations.txt', '2169'], ['207annotations.txt', '2170'], ['207annotations.txt', '2171'], ['207annotations.txt', '2226'], ['207annotations.txt', '2229'], ['208annotations.txt', '2164'], ['210annotations.txt', '2620'], ['214annotations.txt', '318'], ['214annotations.txt', '392'], ['214annotations.txt', '886'], ['214annotations.txt', '1266'], ['214annotations.txt', '1949'], ['214annotations.txt', '2128'], ['219annotations.txt', '387'], ['219annotations.txt', '651'], ['219annotations.txt', '888'], ['219annotations.txt', '1058'], ['219annotations.txt', '1077'], ['219annotations.txt', '1145'], ['219annotations.txt', '1148'], ['219annotations.txt', '1151'], ['219annotations.txt', '1154'], ['219annotations.txt', '1180'], ['219annotations.txt', '1183'], ['219annotations.txt', '1186'], ['219annotations.txt', '1195'], ['219annotations.txt', '1204'], ['219annotations.txt', '1213'], ['219annotations.txt', '1240'], ['219annotations.txt', '1412'], ['219annotations.txt', '1494'], ['219annotations.txt', '1504'], ['219annotations.txt', '1547'], ['219annotations.txt', '1625'], ['219annotations.txt', '1717'], ['219annotations.txt', '1737'], ['219annotations.txt', '1783'], ['221annotations.txt', '276'], ['221annotations.txt', '415'], ['221annotations.txt', '1152'], ['221annotations.txt', '1287'], ['221annotations.txt', '1542'], ['221annotations.txt', '1620'], ['221annotations.txt', '1753'], ['221annotations.txt', '1823'], ['221annotations.txt', '1941'], ['221annotations.txt', '1953'], ['221annotations.txt', '1992'], ['221annotations.txt', '2004'], ['221annotations.txt', '2025'], ['221annotations.txt', '2058'], ['221annotations.txt', '2110'], ['221annotations.txt', '2153'], ['221annotations.txt', '2199'], ['228annotations.txt', '82'], ['228annotations.txt', '461'], ['228annotations.txt', '467'], ['228annotations.txt', '622'], ['228annotations.txt', '940'], ['228annotations.txt', '1250'], ['228annotations.txt', '1334'], ['228annotations.txt', '1697'], ['228annotations.txt', '1703'], ['232annotations.txt', '5'], ['232annotations.txt', '11'], ['232annotations.txt', '13'], ['232annotations.txt', '15'], ['232annotations.txt', '18'], ['232annotations.txt', '26'], ['232annotations.txt', '27'], ['232annotations.txt', '31'], ['232annotations.txt', '43'], ['232annotations.txt', '47'], ['232annotations.txt', '51'], ['232annotations.txt', '58'], ['232annotations.txt', '62'], ['232annotations.txt', '65'], ['232annotations.txt', '69'], ['232annotations.txt', '72'], ['232annotations.txt', '83'], ['232annotations.txt', '88'], ['232annotations.txt', '91'], ['232annotations.txt', '98'], ['232annotations.txt', '101'], ['232annotations.txt', '105'], ['232annotations.txt', '108'], ['232annotations.txt', '112'], ['232annotations.txt', '115'], ['232annotations.txt', '118'], ['232annotations.txt', '121'], ['232annotations.txt', '124'], ['232annotations.txt', '130'], ['232annotations.txt', '141'], ['232annotations.txt', '147'], ['232annotations.txt', '150'], ['232annotations.txt', '153'], ['232annotations.txt', '156'], ['232annotations.txt', '159'], ['232annotations.txt', '165'], ['232annotations.txt', '166'], ['232annotations.txt', '169'], ['232annotations.txt', '175'], ['232annotations.txt', '177'], ['232annotations.txt', '179'], ['232annotations.txt', '181'], ['232annotations.txt', '184'], ['232annotations.txt', '187'], ['232annotations.txt', '190'], ['232annotations.txt', '192'], ['232annotations.txt', '195'], ['232annotations.txt', '199'], ['232annotations.txt', '201'], ['232annotations.txt', '206'], ['232annotations.txt', '207'], ['232annotations.txt', '210'], ['232annotations.txt', '213'], ['232annotations.txt', '216'], ['232annotations.txt', '222'], ['232annotations.txt', '239'], ['232annotations.txt', '244'], ['232annotations.txt', '255'], ['232annotations.txt', '258'], ['232annotations.txt', '260'], ['232annotations.txt', '265'], ['232annotations.txt', '268'], ['232annotations.txt', '275'], ['232annotations.txt', '277'], ['232annotations.txt', '287'], ['232annotations.txt', '292'], ['232annotations.txt', '296'], ['232annotations.txt', '299'], ['232annotations.txt', '300'], ['232annotations.txt', '308'], ['232annotations.txt', '309'], ['232annotations.txt', '314'], ['232annotations.txt', '320'], ['232annotations.txt', '321'], ['232annotations.txt', '323'], ['232annotations.txt', '332'], ['232annotations.txt', '334'], ['232annotations.txt', '337'], ['232annotations.txt', '343'], ['232annotations.txt', '350'], ['232annotations.txt', '355'], ['232annotations.txt', '361'], ['232annotations.txt', '364'], ['232annotations.txt', '365'], ['232annotations.txt', '375'], ['232annotations.txt', '381'], ['232annotations.txt', '385'], ['232annotations.txt', '393'], ['232annotations.txt', '413'], ['232annotations.txt', '418'], ['232annotations.txt', '421'], ['232annotations.txt', '434'], ['232annotations.txt', '437'], ['232annotations.txt', '443'], ['232annotations.txt', '447'], ['232annotations.txt', '452'], ['232annotations.txt', '455'], ['232annotations.txt', '462'], ['232annotations.txt', '468'], ['232annotations.txt', '473'], ['232annotations.txt', '480'], ['232annotations.txt', '484'], ['232annotations.txt', '488'], ['232annotations.txt', '491'], ['232annotations.txt', '495'], ['232annotations.txt', '499'], ['232annotations.txt', '505'], ['232annotations.txt', '512'], ['232annotations.txt', '515'], ['232annotations.txt', '524'], ['232annotations.txt', '532'], ['232annotations.txt', '537'], ['232annotations.txt', '540'], ['232annotations.txt', '542'], ['232annotations.txt', '549'], ['232annotations.txt', '552'], ['232annotations.txt', '554'], ['232annotations.txt', '561'], ['232annotations.txt', '564'], ['232annotations.txt', '567'], ['232annotations.txt', '572'], ['232annotations.txt', '577'], ['232annotations.txt', '581'], ['232annotations.txt', '587'], ['232annotations.txt', '593'], ['232annotations.txt', '596'], ['232annotations.txt', '601'], ['232annotations.txt', '605'], ['232annotations.txt', '609'], ['232annotations.txt', '620'], ['232annotations.txt', '625'], ['232annotations.txt', '629'], ['232annotations.txt', '634'], ['232annotations.txt', '639'], ['232annotations.txt', '643'], ['232annotations.txt', '650'], ['232annotations.txt', '653'], ['232annotations.txt', '656'], ['232annotations.txt', '659'], ['232annotations.txt', '664'], ['232annotations.txt', '665'], ['232annotations.txt', '673'], ['232annotations.txt', '677'], ['232annotations.txt', '682'], ['232annotations.txt', '686'], ['232annotations.txt', '691'], ['232annotations.txt', '696'], ['232annotations.txt', '744'], ['232annotations.txt', '747'], ['232annotations.txt', '755'], ['232annotations.txt', '768'], ['232annotations.txt', '771'], ['232annotations.txt', '775'], ['232annotations.txt', '783'], ['232annotations.txt', '786'], ['232annotations.txt', '788'], ['232annotations.txt', '792'], ['232annotations.txt', '795'], ['232annotations.txt', '800'], ['232annotations.txt', '809'], ['232annotations.txt', '812'], ['232annotations.txt', '816'], ['232annotations.txt', '819'], ['232annotations.txt', '822'], ['232annotations.txt', '825'], ['232annotations.txt', '829'], ['232annotations.txt', '832'], ['232annotations.txt', '835'], ['232annotations.txt', '838'], ['232annotations.txt', '853'], ['232annotations.txt', '858'], ['232annotations.txt', '861'], ['232annotations.txt', '864'], ['232annotations.txt', '867'], ['232annotations.txt', '870'], ['232annotations.txt', '874'], ['232annotations.txt', '877'], ['232annotations.txt', '880'], ['232annotations.txt', '884'], ['232annotations.txt', '887'], ['232annotations.txt', '890'], ['232annotations.txt', '895'], ['232annotations.txt', '903'], ['232annotations.txt', '906'], ['232annotations.txt', '908'], ['232annotations.txt', '911'], ['232annotations.txt', '918'], ['232annotations.txt', '919'], ['232annotations.txt', '928'], ['232annotations.txt', '932'], ['232annotations.txt', '943'], ['232annotations.txt', '951'], ['232annotations.txt', '954'], ['232annotations.txt', '958'], ['232annotations.txt', '959'], ['232annotations.txt', '966'], ['232annotations.txt', '969'], ['232annotations.txt', '975'], ['232annotations.txt', '982'], ['232annotations.txt', '986'], ['232annotations.txt', '990'], ['232annotations.txt', '999'], ['232annotations.txt', '1008'], ['232annotations.txt', '1012'], ['232annotations.txt', '1021'], ['232annotations.txt', '1022'], ['232annotations.txt', '1034'], ['232annotations.txt', '1038'], ['232annotations.txt', '1045'], ['232annotations.txt', '1050'], ['232annotations.txt', '1051'], ['232annotations.txt', '1058'], ['232annotations.txt', '1067'], ['232annotations.txt', '1068'], ['232annotations.txt', '1076'], ['232annotations.txt', '1079'], ['232annotations.txt', '1083'], ['232annotations.txt', '1092'], ['232annotations.txt', '1105'], ['232annotations.txt', '1106'], ['232annotations.txt', '1115'], ['232annotations.txt', '1116'], ['232annotations.txt', '1120'], ['232annotations.txt', '1123'], ['232annotations.txt', '1130'], ['232annotations.txt', '1131'], ['232annotations.txt', '1137'], ['232annotations.txt', '1148'], ['232annotations.txt', '1149'], ['232annotations.txt', '1159'], ['232annotations.txt', '1165'], ['232annotations.txt', '1178'], ['232annotations.txt', '1179'], ['232annotations.txt', '1187'], ['232annotations.txt', '1188'], ['232annotations.txt', '1201'], ['232annotations.txt', '1211'], ['232annotations.txt', '1219'], ['232annotations.txt', '1230'], ['232annotations.txt', '1231'], ['232annotations.txt', '1241'], ['232annotations.txt', '1242'], ['232annotations.txt', '1253'], ['232annotations.txt', '1256'], ['232annotations.txt', '1264'], ['232annotations.txt', '1265'], ['232annotations.txt', '1275'], ['232annotations.txt', '1281'], ['232annotations.txt', '1293'], ['232annotations.txt', '1305'], ['232annotations.txt', '1306'], ['232annotations.txt', '1307'], ['232annotations.txt', '1308'], ['232annotations.txt', '1309'], ['232annotations.txt', '1318'], ['232annotations.txt', '1330'], ['232annotations.txt', '1331'], ['232annotations.txt', '1338'], ['232annotations.txt', '1353'], ['232annotations.txt', '1365'], ['232annotations.txt', '1369'], ['232annotations.txt', '1373'], ['232annotations.txt', '1381'], ['232annotations.txt', '1382'], ['232annotations.txt', '1393'], ['232annotations.txt', '1394'], ['232annotations.txt', '1395'], ['232annotations.txt', '1396'], ['232annotations.txt', '1407'], ['232annotations.txt', '1408'], ['232annotations.txt', '1409'], ['232annotations.txt', '1425'], ['232annotations.txt', '1426'], ['232annotations.txt', '1439'], ['232annotations.txt', '1449'], ['232annotations.txt', '1450'], ['232annotations.txt', '1451'], ['232annotations.txt', '1452'], ['232annotations.txt', '1453'], ['232annotations.txt', '1454'], ['232annotations.txt', '1466'], ['232annotations.txt', '1467'], ['232annotations.txt', '1480'], ['232annotations.txt', '1481'], ['232annotations.txt', '1494'], ['232annotations.txt', '1499'], ['232annotations.txt', '1511'], ['232annotations.txt', '1519'], ['232annotations.txt', '1520'], ['232annotations.txt', '1530'], ['232annotations.txt', '1531'], ['232annotations.txt', '1546'], ['232annotations.txt', '1558'], ['232annotations.txt', '1559'], ['232annotations.txt', '1572'], ['232annotations.txt', '1585'], ['232annotations.txt', '1586'], ['232annotations.txt', '1600'], ['232annotations.txt', '1601'], ['232annotations.txt', '1608'], ['232annotations.txt', '1609'], ['232annotations.txt', '1619'], ['232annotations.txt', '1632'], ['232annotations.txt', '1640'], ['232annotations.txt', '1641'], ['232annotations.txt', '1649'], ['232annotations.txt', '1661'], ['232annotations.txt', '1662'], ['232annotations.txt', '1674'], ['232annotations.txt', '1675'], ['232annotations.txt', '1676'], ['232annotations.txt', '1690'], ['232annotations.txt', '1698'], ['232annotations.txt', '1699'], ['232annotations.txt', '1712'], ['232annotations.txt', '1717'], ['232annotations.txt', '1722'], ['232annotations.txt', '1723'], ['232annotations.txt', '1724'], ['232annotations.txt', '1725'], ['232annotations.txt', '1726'], ['232annotations.txt', '1727'], ['232annotations.txt', '1742'], ['232annotations.txt', '1759'], ['232annotations.txt', '1760'], ['232annotations.txt', '1761'], ['232annotations.txt', '1771'], ['232annotations.txt', '1772'], ['232annotations.txt', '1785'], ['232annotations.txt', '1786'], ['232annotations.txt', '1797'], ['232annotations.txt', '1798'], ['232annotations.txt', '1809'], ['232annotations.txt', '1814']]\n"
     ]
    }
   ],
   "source": [
    "\n",
    "import os\n",
    "#This is code is trying to help determine the length of the longest heartbeat in number of samples.\n",
    "path = \"./ecgData\\mitbih_database\"\n",
    "files = os.listdir(path)\n",
    "newFiles = []\n",
    "for file in files:\n",
    "    if file[-1] == \"t\":\n",
    "        newFiles.append(file)\n",
    "        \n",
    "\n",
    "maxHeartLength = 0\n",
    "strings = []\n",
    "for annotations in newFiles:\n",
    "    prevSample = 0\n",
    "    heartLength = 0\n",
    "    with open(\"ecgData/mitbih_database/\" + annotations) as file:\n",
    "        i = 0\n",
    "        for line in file:\n",
    "            if i == 0:\n",
    "                i+=1\n",
    "                continue\n",
    "            heartLength = int(line.split()[1]) - prevSample\n",
    "            #print(heartLength)\n",
    "            if (heartLength > 500):\n",
    "                list1 = []\n",
    "                list1.append(annotations)\n",
    "                list1.append(str(i))\n",
    "                strings.append(list1)\n",
    "            if(heartLength > maxHeartLength): \n",
    "                maxHeartLength = heartLength\n",
    "            prevSample = int(line.split()[1])\n",
    "            i+=1\n",
    "\n",
    "\n",
    "print(\"maxHeartLength: \" + str(maxHeartLength))\n",
    "print(len(strings))\n",
    "print(strings)\n",
    "\n"
   ]
  },
  {
   "cell_type": "code",
   "execution_count": 5,
   "id": "682dbbc2",
   "metadata": {},
   "outputs": [
    {
     "name": "stdout",
     "output_type": "stream",
     "text": [
      "['100.csv', '100annotations.txt']\n"
     ]
    }
   ],
   "source": [
    "fileLocations = \"ecgData/mitbih_database/\"\n",
    "\n",
    "testPatientECGData = [files[0], files[1]]\n",
    "print(testPatientECGData)\n",
    "initialData = takeData(fileLocations + testPatientECGData[0])\n",
    "\n",
    "initialData = butter_bandpass_filter(initialData, 0.4, 45, 360)\n",
    "\n",
    "initialData = subsample(initialData, 2)\n",
    "\n",
    "initialData = normalise_y_axis(initialData)\n",
    "\n",
    "initialData = initialData[0]\n",
    "\n"
   ]
  },
  {
   "cell_type": "code",
   "execution_count": 30,
   "id": "6bdbeb67",
   "metadata": {
    "scrolled": true
   },
   "outputs": [
    {
     "name": "stdout",
     "output_type": "stream",
     "text": [
      "26\n",
      "2147\n",
      "0.011965025310630465\n"
     ]
    },
    {
     "data": {
      "text/plain": [
       "'\\n\\n[[[1 second window], annotation], [[1 second window], annotation]]\\n'"
      ]
     },
     "execution_count": 30,
     "metadata": {},
     "output_type": "execute_result"
    }
   ],
   "source": [
    "import math\n",
    "\n",
    "ONE_SECOND = 180\n",
    "\n",
    "WINDOW_SIZE = ONE_SECOND * 0.8\n",
    "\n",
    "WINDOW_SIZE = int(WINDOW_SIZE)\n",
    "\n",
    "trainingData = []\n",
    "\n",
    "i = 0\n",
    "length = len(initialData)\n",
    "\n",
    "\n",
    "with open(fileLocations + testPatientECGData[1]) as annotations:\n",
    "    annotate = []\n",
    "    j = 0\n",
    "    for line in annotations:\n",
    "        if j == 0:\n",
    "            j+=1\n",
    "            continue\n",
    "        annotate.append([line.split()[1], line.split()[2]])\n",
    "    index = 0\n",
    "    while (i + WINDOW_SIZE) < length:\n",
    "        j = 0\n",
    "        anno = []\n",
    "        for a in annotate[index:]:\n",
    "            if j == 0:\n",
    "                j+=1\n",
    "                continue\n",
    "            sampleNum = int(a[0]) // 2\n",
    "            if sampleNum > i:\n",
    "                if sampleNum < (i + WINDOW_SIZE):\n",
    "                    anno.append(a[1])\n",
    "                    index += 1\n",
    "                else:\n",
    "                    break\n",
    "                \n",
    "        trainingData.append([initialData[i: i+WINDOW_SIZE], anno])\n",
    "        i += WINDOW_SIZE\n",
    "\n",
    "toRemove = []\n",
    "\n",
    "for i,datapoint in enumerate(trainingData):\n",
    "    if (len(datapoint[1]) != 1):\n",
    "        toRemove.append(i)\n",
    "    \n",
    "\n",
    "trainingData = [j for i, j in enumerate(trainingData) if i not in toRemove]\n",
    "\n",
    "totalLen = len(trainingData)\n",
    "\n",
    "u = 0\n",
    "for datapoint in trainingData:\n",
    "    if (datapoint[1] != [\"N\"]):\n",
    "        u+=1\n",
    "        \n",
    "print(u)\n",
    "print(totalLen-u)\n",
    "print(u/totalLen)\n",
    "    \n",
    "\n",
    "\n",
    "\n",
    "\n",
    "\"\"\"\n",
    "i = 0\n",
    "with open(fileLocations + testPatientECGData[0]) as annotations:\n",
    "    while ((i + 180) < len(initialData)):\n",
    "        j = 0\n",
    "        for x in annotations:\n",
    "            if j == 0:\n",
    "                j += 1\n",
    "                continue\n",
    "            sampleNum = int(math.floor(float(x[1]) / 2))\n",
    "            if sampleNum > i and sampleNum < (i + 180):\n",
    "                trainingData.append([initialData[i:(i+180), x[2]]])\n",
    "            elif sampleNum > (i + 180):\n",
    "                i+=180\n",
    "                break\n",
    "        \n",
    "\n",
    "print(len(trainingData))\n",
    "\"\"\"\n",
    "\"\"\"\n",
    "\n",
    "[[[1 second window], annotation], [[1 second window], annotation]]\n",
    "\"\"\""
   ]
  },
  {
   "cell_type": "code",
   "execution_count": 46,
   "id": "f5ec3222",
   "metadata": {},
   "outputs": [
    {
     "name": "stdout",
     "output_type": "stream",
     "text": [
      "['0:00.050', '18', '+', '0', '0', '0', '(N']\n",
      "['0:00.214', '77', 'N', '0', '0', '0']\n",
      "['0:01.028', '370', 'N', '0', '0', '0']\n",
      "['0:01.839', '662', 'N', '0', '0', '0']\n",
      "['0:02.628', '946', 'N', '0', '0', '0']\n",
      "['0:03.419', '1231', 'N', '0', '0', '0']\n",
      "['0:04.208', '1515', 'N', '0', '0', '0']\n",
      "['0:05.025', '1809', 'N', '0', '0', '0']\n",
      "['0:05.678', '2044', 'A', '0', '0', '0']\n",
      "['0:06.672', '2402', 'N', '0', '0', '0']\n",
      "['0:07.517', '2706', 'N', '0', '0', '0']\n",
      "['0:08.328', '2998', 'N', '0', '0', '0']\n",
      "['0:09.117', '3282', 'N', '0', '0', '0']\n",
      "['0:09.889', '3560', 'N', '0', '0', '0']\n",
      "['0:10.728', '3862', 'N', '0', '0', '0']\n",
      "['0:11.583', '4170', 'N', '0', '0', '0']\n",
      "['0:12.406', '4466', 'N', '0', '0', '0']\n",
      "['0:13.233', '4764', 'N', '0', '0', '0']\n",
      "['0:14.056', '5060', 'N', '0', '0', '0']\n",
      "['0:14.850', '5346', 'N', '0', '0', '0']\n",
      "['0:15.647', '5633', 'N', '0', '0', '0']\n",
      "['0:16.439', '5918', 'N', '0', '0', '0']\n",
      "['0:17.261', '6214', 'N', '0', '0', '0']\n",
      "['0:18.131', '6527', 'N', '0', '0', '0']\n",
      "['0:18.953', '6823', 'N', '0', '0', '0']\n",
      "['0:19.739', '7106', 'N', '0', '0', '0']\n",
      "['0:20.531', '7391', 'N', '0', '0', '0']\n",
      "['0:21.306', '7670', 'N', '0', '0', '0']\n",
      "['0:22.092', '7953', 'N', '0', '0', '0']\n",
      "['0:22.903', '8245', 'N', '0', '0', '0']\n",
      "['0:23.719', '8539', 'N', '0', '0', '0']\n",
      "['0:24.547', '8837', 'N', '0', '0', '0']\n",
      "['0:25.392', '9141', 'N', '0', '0', '0']\n",
      "['0:26.197', '9431', 'N', '0', '0', '0']\n",
      "['0:26.972', '9710', 'N', '0', '0', '0']\n",
      "['0:27.772', '9998', 'N', '0', '0', '0']\n",
      "['0:28.561', '10282', 'N', '0', '0', '0']\n",
      "['0:29.419', '10591', 'N', '0', '0', '0']\n",
      "['0:30.261', '10894', 'N', '0', '0', '0']\n",
      "['0:31.086', '11191', 'N', '0', '0', '0']\n",
      "['0:31.889', '11480', 'N', '0', '0', '0']\n",
      "['0:32.725', '11781', 'N', '0', '0', '0']\n",
      "['0:33.517', '12066', 'N', '0', '0', '0']\n",
      "['0:34.306', '12350', 'N', '0', '0', '0']\n",
      "['0:35.125', '12645', 'N', '0', '0', '0']\n",
      "['0:35.969', '12949', 'N', '0', '0', '0']\n",
      "['0:36.850', '13266', 'N', '0', '0', '0']\n",
      "['0:37.672', '13562', 'N', '0', '0', '0']\n",
      "['0:38.450', '13842', 'N', '0', '0', '0']\n"
     ]
    },
    {
     "data": {
      "text/plain": [
       "'\\nList of\\n    List of\\n        1 second window (as a list)\\n        Annotation of problem\\n'"
      ]
     },
     "execution_count": 46,
     "metadata": {},
     "output_type": "execute_result"
    }
   ],
   "source": [
    "\n",
    "\n",
    "with open(fileLocations + testPatientECGData[1]) as annotations:\n",
    "    i = 0\n",
    "    window = 360\n",
    "    annotationFound = false\n",
    "    for line in annotations:\n",
    "        if i == 0:\n",
    "            i += 1\n",
    "            continue\n",
    "        sampleNum = lineData[1]\n",
    "        Annotation = lineData[2]\n",
    "        if sampleNum < window:\n",
    "            training\n",
    "        \n",
    "        \n",
    "## What we want the data to look like:\n",
    "\n",
    "\"\"\"\n",
    "List of\n",
    "    List of\n",
    "        1 second window (as a list)\n",
    "        Annotation of problem\n",
    "\"\"\"    \n",
    "        "
   ]
  }
 ],
 "metadata": {
  "kernelspec": {
   "display_name": "Python 3 (ipykernel)",
   "language": "python",
   "name": "python3"
  },
  "language_info": {
   "codemirror_mode": {
    "name": "ipython",
    "version": 3
   },
   "file_extension": ".py",
   "mimetype": "text/x-python",
   "name": "python",
   "nbconvert_exporter": "python",
   "pygments_lexer": "ipython3",
   "version": "3.9.7"
  }
 },
 "nbformat": 4,
 "nbformat_minor": 5
}
